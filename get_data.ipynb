{
 "cells": [
  {
   "cell_type": "code",
   "execution_count": 1,
   "metadata": {},
   "outputs": [],
   "source": [
    "from bs4 import BeautifulSoup\n",
    "from selenium import webdriver\n",
    "from selenium.webdriver.chrome.options import Options\n",
    "from selenium.webdriver.common.by import By\n",
    "from selenium.webdriver.common.keys import Keys\n",
    "import re\n",
    "import pandas as pd"
   ]
  },
  {
   "cell_type": "code",
   "execution_count": 2,
   "metadata": {},
   "outputs": [],
   "source": [
    "# Configuration\n",
    "chrome_options = Options()\n",
    "chrome_options.add_argument('--headless')\n",
    "driver = webdriver.Chrome(options=chrome_options)"
   ]
  },
  {
   "cell_type": "code",
   "execution_count": 3,
   "metadata": {},
   "outputs": [],
   "source": [
    "# Vérifie le numéro de la page actuelle\n",
    "\n",
    "\n",
    "def checkCurrentPage(soup):\n",
    "    current = soup.find('li', class_=\"current\").text.strip()\n",
    "    match = re.match(r\"Page (\\d+) of 50\", current)\n",
    "    if match:\n",
    "        current_page = int(match.group(1))\n",
    "    return current_page\n",
    "\n",
    "# Recupère les données de la page actuelle\n",
    "\n",
    "\n",
    "def get_book_data(soup):\n",
    "    book = {}\n",
    "    books = []\n",
    "    if soup:\n",
    "        firstSection = soup.find('section')\n",
    "        divs = firstSection.find_all('div')\n",
    "        second_div = divs[1]\n",
    "        ol = second_div.find('ol')\n",
    "        lis = ol.find_all('li')\n",
    "        for li in lis:\n",
    "            article = li.find('article')\n",
    "            title_element = (article.find('h3')).find('a')\n",
    "            price_element = (article.find(\"div\", class_=\"product_price\")).find(\n",
    "                \"p\", class_=\"price_color\")\n",
    "            title = title_element.get('title')\n",
    "            price = price_element.text.strip()\n",
    "            book = {\n",
    "                \"titre\": title,\n",
    "                \"prix\": price,\n",
    "            }\n",
    "            books.append(book)\n",
    "        return books\n",
    "\n",
    "\n",
    "def navigateInPage(driver, soup):\n",
    "    all_book = []\n",
    "    current_page = checkCurrentPage(soup)\n",
    "    while current_page < 50:\n",
    "        books = get_book_data(soup)\n",
    "        all_book.append(books)\n",
    "        next_link = driver.find_element(By.XPATH, \"//a[text()='next']\")\n",
    "        next_link.click()\n",
    "        soup = BeautifulSoup(driver.page_source, 'html.parser')\n",
    "        current_page = checkCurrentPage(soup)\n",
    "    return all_book\n",
    "\n"
   ]
  },
  {
   "cell_type": "code",
   "execution_count": 4,
   "metadata": {},
   "outputs": [
    {
     "name": "stdout",
     "output_type": "stream",
     "text": [
      "                                                 titre    prix\n",
      "0                                 A Light in the Attic  £51.77\n",
      "1                                   Tipping the Velvet  £53.74\n",
      "2                                           Soumission  £50.10\n",
      "3                                        Sharp Objects  £47.82\n",
      "4                Sapiens: A Brief History of Humankind  £54.23\n",
      "..                                                 ...     ...\n",
      "975                             Icing (Aces Hockey #2)  £40.44\n",
      "976  Hawkeye, Vol. 1: My Life as a Weapon (Hawkeye #1)  £45.24\n",
      "977  Having the Barbarian's Baby (Ice Planet Barbar...  £34.96\n",
      "978               Giant Days, Vol. 1 (Giant Days #1-4)  £56.76\n",
      "979           Fruits Basket, Vol. 1 (Fruits Basket #1)  £40.28\n",
      "\n",
      "[980 rows x 2 columns]\n"
     ]
    }
   ],
   "source": [
    "driver.get(\"https://books.toscrape.com/\")\n",
    "soup = BeautifulSoup(driver.page_source, \"html.parser\")\n",
    "result = navigateInPage(driver, soup)\n",
    "# compréhension de liste pour aplatir la structure\n",
    "liste_aplatie = [item for sublist in result for item in sublist]\n",
    "df = pd.DataFrame(liste_aplatie)\n"
   ]
  },
  {
   "cell_type": "code",
   "execution_count": null,
   "metadata": {},
   "outputs": [],
   "source": [
    "print(df)"
   ]
  },
  {
   "cell_type": "code",
   "execution_count": 5,
   "metadata": {},
   "outputs": [],
   "source": [
    "df.to_csv('donnees.csv', index=False)"
   ]
  },
  {
   "cell_type": "code",
   "execution_count": null,
   "metadata": {},
   "outputs": [],
   "source": []
  }
 ],
 "metadata": {
  "kernelspec": {
   "display_name": "Python 3",
   "language": "python",
   "name": "python3"
  },
  "language_info": {
   "codemirror_mode": {
    "name": "ipython",
    "version": 3
   },
   "file_extension": ".py",
   "mimetype": "text/x-python",
   "name": "python",
   "nbconvert_exporter": "python",
   "pygments_lexer": "ipython3",
   "version": "3.11.5"
  },
  "orig_nbformat": 4
 },
 "nbformat": 4,
 "nbformat_minor": 2
}
